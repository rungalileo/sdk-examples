{
 "cells": [
  {
   "cell_type": "code",
   "execution_count": 1,
   "id": "4efa4072",
   "metadata": {},
   "outputs": [],
   "source": [
    "import os\n",
    "from galileo.handlers.langchain import GalileoCallback\n",
    "from galileo import GalileoDecorator\n",
    "\n",
    "os.environ[\"GALILEO_PROJECT\"] = \"demo-simple-agent-langgraph\"\n",
    "os.environ[\"GALILEO_LOG_STREAM\"]=\"dev\"\n",
    "\n",
    "os.environ[\"LANGCHAIN_PROJECT\"]=\"galileo-demo-simple-agent-langgraph\"\n",
    "\n",
    "# Create a callback with the custom logger\n",
    "galileo_v2_callback = GalileoCallback(\n",
    "    start_new_trace=True,   # Whether to start a new trace for each chain\n",
    "    flush_on_chain_end=True # Whether to flush traces when chains end\n",
    ") \n",
    "galileo_context = GalileoDecorator()\n",
    "\n",
    "from braintrust import init_logger\n",
    "from braintrust_langchain import BraintrustCallbackHandler\n",
    "\n",
    "init_logger(project=\"galileo-simple-agent-langgraph\", api_key=os.environ.get(\"BRAINTRUST_API_KEY\"))\n",
    "braintrust_callback = BraintrustCallbackHandler()"
   ]
  },
  {
   "cell_type": "code",
   "execution_count": 2,
   "id": "04f0e2d7",
   "metadata": {},
   "outputs": [],
   "source": [
    "from typing import Annotated\n",
    "\n",
    "from typing_extensions import TypedDict\n",
    "\n",
    "from langgraph.graph import StateGraph, START, END\n",
    "from langgraph.graph.message import add_messages\n",
    "from langchain_core.tools import tool\n",
    "\n",
    "from langgraph.checkpoint.memory import MemorySaver\n",
    "from langgraph.types import interrupt, Command\n",
    "\n",
    "from langgraph.prebuilt import ToolNode, tools_condition\n",
    "\n",
    "memory = MemorySaver()\n",
    "\n",
    "\n",
    "class State(TypedDict):\n",
    "    # Messages have the type \"list\". The `add_messages` function\n",
    "    # in the annotation defines how this state key should be updated\n",
    "    # (in this case, it appends messages to the list, rather than overwriting them)\n",
    "    messages: Annotated[list, add_messages]\n",
    "\n",
    "\n",
    "graph_builder = StateGraph(State)"
   ]
  },
  {
   "cell_type": "code",
   "execution_count": 3,
   "id": "1b128bf7",
   "metadata": {},
   "outputs": [
    {
     "data": {
      "text/plain": [
       "True"
      ]
     },
     "execution_count": 3,
     "metadata": {},
     "output_type": "execute_result"
    }
   ],
   "source": [
    "from dotenv import load_dotenv\n",
    "\n",
    "load_dotenv(\"../.env\")"
   ]
  },
  {
   "cell_type": "code",
   "execution_count": 4,
   "id": "7b7c5f02",
   "metadata": {},
   "outputs": [
    {
     "data": {
      "text/plain": [
       "<langgraph.graph.state.StateGraph at 0x1332b0a10>"
      ]
     },
     "execution_count": 4,
     "metadata": {},
     "output_type": "execute_result"
    }
   ],
   "source": [
    "from langchain.chat_models import init_chat_model\n",
    "from langchain_tavily import TavilySearch\n",
    "\n",
    "llm = init_chat_model(\"openai:gpt-4.1-mini\", callbacks=[galileo_v2_callback, braintrust_callback])\n",
    "\n",
    "@tool\n",
    "def human_assistance(query: str) -> str:\n",
    "    \"\"\"Request assistance from a human.\"\"\"\n",
    "    human_response = interrupt({\"query\": query})\n",
    "    return human_response[\"data\"]\n",
    "\n",
    "tool = TavilySearch(max_results=2)\n",
    "tools = [tool, human_assistance]\n",
    "llm_with_tools = llm.bind_tools(tools)\n",
    "\n",
    "def chatbot(state: State):\n",
    "    message = llm_with_tools.invoke(state[\"messages\"])\n",
    "    # Disable parallel tool calling to avoid repeating tool invocations when we resume\n",
    "    assert len(message.tool_calls) <= 1\n",
    "    return {\"messages\": [message]}\n",
    "\n",
    "graph_builder.add_node(\"chatbot\", chatbot)\n"
   ]
  },
  {
   "cell_type": "code",
   "execution_count": 5,
   "id": "f3b30725",
   "metadata": {},
   "outputs": [],
   "source": [
    "tool_node = ToolNode(tools=tools)\n",
    "graph_builder.add_node(\"tools\", tool_node)\n",
    "\n",
    "# The `tools_condition` function returns \"tools\" if the chatbot asks to use a tool, and \"END\" if\n",
    "# it is fine directly responding. This conditional routing defines the main agent loop.\n",
    "graph_builder.add_conditional_edges(\n",
    "    \"chatbot\",\n",
    "    tools_condition\n",
    ")\n",
    "# Any time a tool is called, we return to the chatbot to decide the next step\n",
    "graph_builder.add_edge(\"tools\", \"chatbot\")\n",
    "graph_builder.add_edge(START, \"chatbot\")\n",
    "graph = graph_builder.compile(checkpointer=memory)"
   ]
  },
  {
   "cell_type": "code",
   "execution_count": 6,
   "id": "71ef5ddd",
   "metadata": {},
   "outputs": [
    {
     "data": {
      "image/png": "[encoded data removed]",
      "text/plain": [
       "<IPython.core.display.Image object>"
      ]
     },
     "metadata": {},
     "output_type": "display_data"
    }
   ],
   "source": [
    "from IPython.display import Image, display\n",
    "\n",
    "try:\n",
    "    display(Image(graph.get_graph().draw_mermaid_png()))\n",
    "except Exception:\n",
    "    # This requires some extra dependencies and is optional\n",
    "    print(\"Something went wrong while trying to display the graph.\")\n",
    "    pass"
   ]
  },
  {
   "cell_type": "code",
   "execution_count": null,
   "id": "eb94591e",
   "metadata": {},
   "outputs": [],
   "source": [
    "config = {\"configurable\": {\"thread_id\": \"1\"}}\n",
    "\n",
    "def stream_with_interrupt_handling():\n",
    "    while True:\n",
    "        user_input = input(\"User: \")\n",
    "        if user_input.lower() in [\"quit\", \"exit\", \"q\"]:\n",
    "            print(\"Goodbye!\")\n",
    "            break\n",
    "        \n",
    "        # Start streaming the response\n",
    "        events = graph.stream(\n",
    "            {\"messages\": [{\"role\": \"user\", \"content\": user_input}]},\n",
    "            config,\n",
    "            stream_mode=\"values\",\n",
    "        )\n",
    "        \n",
    "        # Process events until we hit an interrupt or complete\n",
    "        for event in events:\n",
    "            if \"messages\" in event:\n",
    "                event[\"messages\"][-1].pretty_print()\n",
    "        \n",
    "        # After streaming completes, check if we hit an interrupt\n",
    "        snapshot = graph.get_state(config)\n",
    "        \n",
    "        # Check if the graph is at an interrupt\n",
    "        if snapshot.next:\n",
    "            assert snapshot.next[0] == \"tools\", f\"Unexpected value for snapshot.next: {snapshot.next}\"\n",
    "            # We're at an interrupt - get human input\n",
    "            print(\"\\n[System: Agent is requesting human assistance]\")\n",
    "            \n",
    "            # Extract the query from the interrupt state\n",
    "            interrupt_msg = None\n",
    "            for msg in reversed(snapshot.values[\"messages\"]):\n",
    "                if hasattr(msg, \"tool_calls\") and msg.tool_calls:\n",
    "                    for tool_call in msg.tool_calls:\n",
    "                        if tool_call[\"name\"] == \"human_assistance\":\n",
    "                            interrupt_msg = tool_call[\"args\"][\"query\"]\n",
    "                            break\n",
    "                    if interrupt_msg:\n",
    "                        break\n",
    "            \n",
    "            if interrupt_msg:\n",
    "                print(f\"[Agent query: {interrupt_msg}]\")\n",
    "            \n",
    "            # Get human response\n",
    "            human_response = input(\"Human: \")\n",
    "            \n",
    "            # Resume with the human response\n",
    "            human_command = Command(resume={\"data\": human_response})\n",
    "            \n",
    "            # Continue streaming from where we left off\n",
    "            events = graph.stream(human_command, config, stream_mode=\"values\")\n",
    "            for event in events:\n",
    "                if \"messages\" in event:\n",
    "                    event[\"messages\"][-1].pretty_print()\n"
   ]
  },
  {
   "cell_type": "code",
   "execution_count": 9,
   "id": "c6936f09",
   "metadata": {},
   "outputs": [
    {
     "name": "stdout",
     "output_type": "stream",
     "text": [
      "================================\u001b[1m Human Message \u001b[0m=================================\n",
      "\n",
      "What is the latest news about india and pakistan?\n",
      "==================================\u001b[1m Ai Message \u001b[0m==================================\n",
      "Tool Calls:\n",
      "  tavily_search (call_EFe35CWLT0O7NfydGnUMnv3m)\n",
      " Call ID: call_EFe35CWLT0O7NfydGnUMnv3m\n",
      "  Args:\n",
      "    query: latest news about India and Pakistan\n",
      "    topic: news\n",
      "    search_depth: basic\n",
      "=================================\u001b[1m Tool Message \u001b[0m=================================\n",
      "Name: tavily_search\n",
      "\n",
      "{\"query\": \"latest news about India and Pakistan\", \"follow_up_questions\": null, \"answer\": null, \"images\": [], \"results\": [{\"url\": \"https://www.skynews.com.au/australia-news/todays-news-headlines-india-and-pakistan-agree-to-ceasefire/video/00cc30eab693e6306172ef8cc8673261?nk=168895e0761b3b6e4217baa16429b7e4-1746936271\", \"title\": \"Today’s News Headlines: India and Pakistan agree to ceasefire - Sky News Australia\", \"score\": 0.79369855, \"published_date\": \"Sun, 11 May 2025 00:01:50 GMT\", \"content\": \"Today’s News Headlines: India and Pakistan agree to ceasefire\\nThe latest news from Australia and around the world.\\nRead More\\nUp Next\\nOur Apps\\n\"}, {\"url\": \"https://www.hindustantimes.com/india-news/india-launched-missile-attacks-on-three-air-bases-claims-pakistan-101746832743749.html\", \"title\": \"India launched ‘missile attacks’ on three air bases, claims Pakistan - Hindustan Times\", \"score\": 0.7596005, \"published_date\": \"Sat, 10 May 2025 00:08:43 GMT\", \"content\": \"India launches drone attacks on three air bases in Pakistan in retaliation | Latest News India - Hindustan Times HT E-paper Access digital news experience Delhi News Top News india news india news india news india news Get India Pakistan News Live. Today's India News, Weather Today,and Latest News, on Hindustan Times. Get India Pakistan News Live. Today's India News, Weather Today,and Latest News, on Hindustan Times. News / India News / India launches drone attacks on three air bases in Pakistan in retaliation World News India News Delhi News TRENDING NEWS India Pakistan News CBSE Board Result Date News LIVE Latest India News India News World News US News CBSE Board Result News LIVE india news News Photos More from HT\"}], \"response_time\": 0.38}\n",
      "==================================\u001b[1m Ai Message \u001b[0m==================================\n",
      "\n",
      "The latest news regarding India and Pakistan includes the following:\n",
      "\n",
      "- India and Pakistan have agreed to a ceasefire, as reported recently.\n",
      "- There was also a claim from Pakistan that India launched missile attacks on three air bases.\n",
      "\n",
      "If you want, I can provide more detailed information or updates on these events.\n",
      "================================\u001b[1m Human Message \u001b[0m=================================\n",
      "\n",
      "Please summarize the retrieved articles\n",
      "==================================\u001b[1m Ai Message \u001b[0m==================================\n",
      "\n",
      "Certainly! Here's a summary of the latest news articles about India and Pakistan:\n",
      "\n",
      "1. India and Pakistan have agreed to a ceasefire, signaling a potential de-escalation of tensions between the two countries.\n",
      "\n",
      "2. There are claims from Pakistan that India conducted missile attacks on three air bases in retaliation. Additionally, India reportedly launched drone attacks on these air bases.\n",
      "\n",
      "These developments indicate a complex and tense situation, with movements towards ceasefire alongside reports of military actions. If you want, I can help you find more detailed reports or updates.\n",
      "================================\u001b[1m Human Message \u001b[0m=================================\n",
      "\n",
      "I need some human help\n",
      "==================================\u001b[1m Ai Message \u001b[0m==================================\n",
      "Tool Calls:\n",
      "  human_assistance (call_QwphloVz7pJYQarWUYK3QxLL)\n",
      " Call ID: call_QwphloVz7pJYQarWUYK3QxLL\n",
      "  Args:\n",
      "    query: User requests human assistance for building an AI agent and other inquiries.\n",
      "\n",
      "[System: Agent is requesting human assistance]\n",
      "[Agent query: User requests human assistance for building an AI agent and other inquiries.]\n",
      "==================================\u001b[1m Ai Message \u001b[0m==================================\n",
      "Tool Calls:\n",
      "  human_assistance (call_QwphloVz7pJYQarWUYK3QxLL)\n",
      " Call ID: call_QwphloVz7pJYQarWUYK3QxLL\n",
      "  Args:\n",
      "    query: User requests human assistance for building an AI agent and other inquiries.\n",
      "=================================\u001b[1m Tool Message \u001b[0m=================================\n",
      "Name: human_assistance\n",
      "\n",
      "Use Galileo for evaluation\n",
      "==================================\u001b[1m Ai Message \u001b[0m==================================\n",
      "\n",
      "For human assistance, especially regarding building an AI agent or any other inquiries, I recommend using Galileo for expert evaluation and guidance. If you have specific questions or need support for particular aspects, please let me know, and I can help facilitate that with Galileo.\n",
      "================================\u001b[1m Human Message \u001b[0m=================================\n",
      "\n",
      "What is the walrus function in Python?\n",
      "==================================\u001b[1m Ai Message \u001b[0m==================================\n",
      "\n",
      "The \"walrus operator\" in Python refers to the assignment expression operator := introduced in Python 3.8. It allows you to assign a value to a variable as part of an expression. This means you can both assign and return a value in the same expression, which can make certain code patterns more concise and readable.\n",
      "\n",
      "For example:\n",
      "```python\n",
      "if (n := len(some_list)) > 10:\n",
      "    print(f\"List is too long ({n} elements)\")\n",
      "```\n",
      "Here, the length of `some_list` is assigned to `n` and then compared to 10 in the same line.\n",
      "\n",
      "The walrus operator is useful in loops, conditionals, and comprehensions, where you want to avoid computing a value twice.\n",
      "\n",
      "Would you like some more examples or explanations on how to use it?\n",
      "Goodbye!\n"
     ]
    }
   ],
   "source": [
    "# snapshot = graph.get_state(config)\n",
    "# print(snapshot)\n",
    "\n",
    "stream_with_interrupt_handling()"
   ]
  },
  {
   "cell_type": "code",
   "execution_count": null,
   "id": "11287957",
   "metadata": {},
   "outputs": [],
   "source": []
  }
 ],
 "metadata": {
  "kernelspec": {
   "display_name": "Notebooks-HO4Jl9IL",
   "language": "python",
   "name": "python3"
  },
  "language_info": {
   "codemirror_mode": {
    "name": "ipython",
    "version": 3
   },
   "file_extension": ".py",
   "mimetype": "text/x-python",
   "name": "python",
   "nbconvert_exporter": "python",
   "pygments_lexer": "ipython3",
   "version": "3.12.9"
  }
 },
 "nbformat": 4,
 "nbformat_minor": 5
}
