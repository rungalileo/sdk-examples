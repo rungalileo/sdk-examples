{
 "cells": [
  {
   "cell_type": "code",
   "execution_count": 8,
   "id": "70ea03f5",
   "metadata": {},
   "outputs": [],
   "source": [
    "from langchain_core.prompts import ChatPromptTemplate, MessagesPlaceholder\n",
    "from langchain_core.output_parsers import StrOutputParser\n",
    "from langchain_openai import ChatOpenAI\n",
    "from langchain_core.messages import AIMessage, HumanMessage\n",
    "from langchain.memory import ConversationBufferMemory\n"
   ]
  },
  {
   "cell_type": "code",
   "execution_count": 9,
   "id": "fecfb7f0",
   "metadata": {},
   "outputs": [
    {
     "data": {
      "text/plain": [
       "True"
      ]
     },
     "execution_count": 9,
     "metadata": {},
     "output_type": "execute_result"
    }
   ],
   "source": [
    "from dotenv import load_dotenv\n",
    "\n",
    "load_dotenv(\"../.env\")"
   ]
  },
  {
   "cell_type": "code",
   "execution_count": 10,
   "id": "1e1868cc",
   "metadata": {},
   "outputs": [],
   "source": [
    "def create_chat_session():\n",
    "    # Initialize the language model\n",
    "    llm = ChatOpenAI(model=\"gpt-3.5-turbo\")\n",
    "    \n",
    "    # Initialize memory\n",
    "    memory = ConversationBufferMemory(return_messages=True)\n",
    "    \n",
    "    # Create a prompt template with memory\n",
    "    prompt = ChatPromptTemplate.from_messages([\n",
    "        (\"system\", \"You are a helpful assistant who responds in a friendly and concise manner.\"),\n",
    "        MessagesPlaceholder(variable_name=\"history\"),\n",
    "        (\"human\", \"{input}\")\n",
    "    ])\n",
    "    \n",
    "    # Create a chain with memory\n",
    "    chain = (\n",
    "        {\"input\": lambda x: x[\"input\"], \"history\": lambda x: x[\"history\"]}\n",
    "        | prompt\n",
    "        | llm\n",
    "        | StrOutputParser()\n",
    "    )\n",
    "    \n",
    "    return chain, memory\n",
    "\n",
    "def main():\n",
    "    print(\"Welcome to Simple LangChain Chat!\")\n",
    "    print(\"Type 'exit' to end the conversation.\")\n",
    "    print(\"-\" * 50)\n",
    "    \n",
    "    # Create the chat chain and memory\n",
    "    chat_chain, memory = create_chat_session()\n",
    "    \n",
    "    # Initialize conversation history\n",
    "    conversation_history = []\n",
    "    \n",
    "    while True:\n",
    "        # Get user input\n",
    "        user_input = input(\"\\nYou: \")\n",
    "        \n",
    "        # Check if user wants to exit\n",
    "        if user_input.lower() in [\"exit\", \"quit\", \"bye\"]:\n",
    "            print(\"\\nAssistant: Goodbye! Have a great day!\")\n",
    "            break\n",
    "        \n",
    "        try:\n",
    "            # Add user message to history\n",
    "            conversation_history.append(HumanMessage(content=user_input))\n",
    "            \n",
    "            # Process the user input through the chain\n",
    "            response = chat_chain.invoke({\n",
    "                \"input\": user_input,\n",
    "                \"history\": conversation_history\n",
    "            })\n",
    "            \n",
    "            # Add AI response to history\n",
    "            conversation_history.append(AIMessage(content=response))\n",
    "            \n",
    "            # Display the response\n",
    "            print(f\"\\nAssistant: {response}\")\n",
    "        except Exception as e:\n",
    "            print(f\"\\nError: {str(e)}\")\n"
   ]
  },
  {
   "cell_type": "code",
   "execution_count": 11,
   "id": "3860ad0e",
   "metadata": {},
   "outputs": [
    {
     "name": "stderr",
     "output_type": "stream",
     "text": [
      "/var/folders/_y/jx3g_j6n7bl_txk7_1tfhq200000gn/T/ipykernel_56431/6343565.py:6: LangChainDeprecationWarning: Please see the migration guide at: https://python.langchain.com/docs/versions/migrating_memory/\n",
      "  memory = ConversationBufferMemory(return_messages=True)\n"
     ]
    },
    {
     "name": "stdout",
     "output_type": "stream",
     "text": [
      "Welcome to Simple LangChain Chat!\n",
      "Type 'exit' to end the conversation.\n",
      "--------------------------------------------------\n",
      "\n",
      "Assistant: The product of 3 and 4 is 12. ✨\n",
      "\n",
      "Assistant: The product of 12 and 5 is 60. 🌟\n",
      "\n",
      "Assistant: Goodbye! Have a great day!\n"
     ]
    }
   ],
   "source": [
    "main()"
   ]
  },
  {
   "cell_type": "code",
   "execution_count": null,
   "id": "df50d65f",
   "metadata": {},
   "outputs": [],
   "source": []
  }
 ],
 "metadata": {
  "kernelspec": {
   "display_name": "Notebooks-HO4Jl9IL",
   "language": "python",
   "name": "python3"
  },
  "language_info": {
   "codemirror_mode": {
    "name": "ipython",
    "version": 3
   },
   "file_extension": ".py",
   "mimetype": "text/x-python",
   "name": "python",
   "nbconvert_exporter": "python",
   "pygments_lexer": "ipython3",
   "version": "3.12.9"
  }
 },
 "nbformat": 4,
 "nbformat_minor": 5
}
