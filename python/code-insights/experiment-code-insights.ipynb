{
 "cells": [
  {
   "cell_type": "code",
   "execution_count": 3,
   "id": "e4f74b86",
   "metadata": {},
   "outputs": [
    {
     "name": "stdout",
     "output_type": "stream",
     "text": [
      "Found source code: `@function_fingerprint\n",
      "def foo(x):\n",
      "    return helper(x) * 2\n",
      "`\n",
      "Found source code: `def helper(x):\n",
      "    return x + 10\n",
      "`\n",
      "Hash for foo(x): 785c818c8f50516c81219fef87815911\n",
      "Found source code: `@function_fingerprint\n",
      "def foo(x):\n",
      "    return helper(x) * 2\n",
      "`\n",
      "Found source code: `def helper(x):\n",
      "    return x + 12\n",
      "`\n",
      "Hash for foo(x): 69a38c6b116089aeed7d047a2add4e25\n"
     ]
    }
   ],
   "source": [
    "from deep_lookup import function_fingerprint\n",
    "from foo import BAR, get_prompt\n",
    "\n",
    "def helper(x):\n",
    "    return x + 10\n",
    "\n",
    "@function_fingerprint\n",
    "def foo(x):\n",
    "    return helper(x) * 2\n",
    "\n",
    "print(f\"Hash for foo(x): {foo.get_hash()}\")\n",
    "\n",
    "def helper(x):\n",
    "    return x + 12\n",
    "\n",
    "@function_fingerprint\n",
    "def foo(x):\n",
    "    return helper(x) * 2\n",
    "\n",
    "print(f\"Hash for foo(x): {foo.get_hash()}\")"
   ]
  },
  {
   "cell_type": "code",
   "execution_count": null,
   "id": "f82c62c4",
   "metadata": {},
   "outputs": [],
   "source": []
  }
 ],
 "metadata": {
  "kernelspec": {
   "display_name": "Notebooks-HO4Jl9IL",
   "language": "python",
   "name": "python3"
  },
  "language_info": {
   "codemirror_mode": {
    "name": "ipython",
    "version": 3
   },
   "file_extension": ".py",
   "mimetype": "text/x-python",
   "name": "python",
   "nbconvert_exporter": "python",
   "pygments_lexer": "ipython3",
   "version": "3.12.9"
  }
 },
 "nbformat": 4,
 "nbformat_minor": 5
}
