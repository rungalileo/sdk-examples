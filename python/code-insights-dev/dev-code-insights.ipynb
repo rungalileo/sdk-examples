{
 "cells": [
  {
   "cell_type": "code",
   "execution_count": 2,
   "id": "05f0f76f",
   "metadata": {},
   "outputs": [],
   "source": [
    "from dev_code_insights import function_tracer\n",
    "from deep_lookup import function_fingerprint\n",
    "\n",
    "# Basic usage\n",
    "@function_tracer\n",
    "def example_function(a, b):\n",
    "    return helper(a) + b\n",
    "\n",
    "def helper(x):\n",
    "    return x * 2\n",
    "\n",
    "# Example with error handling\n",
    "@function_tracer(log_file=\"test.log\")\n",
    "def risky_function(value):\n",
    "    return 10 / value\n",
    "\n",
    "# You can combine with your function_fingerprint\n",
    "@function_fingerprint\n",
    "@function_tracer(depth=10)\n",
    "def complex_function(x):\n",
    "    return helper(x) * 2\n"
   ]
  },
  {
   "cell_type": "code",
   "execution_count": null,
   "id": "362d25d6",
   "metadata": {},
   "outputs": [
    {
     "ename": "TypeError",
     "evalue": "function_tracer.<locals>.decorator() takes 1 positional argument but 2 were given",
     "output_type": "error",
     "traceback": [
      "\u001b[0;31m---------------------------------------------------------------------------\u001b[0m",
      "\u001b[0;31mTypeError\u001b[0m                                 Traceback (most recent call last)",
      "Cell \u001b[0;32mIn[4], line 1\u001b[0m\n\u001b[0;32m----> 1\u001b[0m \u001b[43mexample_function\u001b[49m\u001b[43m(\u001b[49m\u001b[38;5;241;43m5\u001b[39;49m\u001b[43m,\u001b[49m\u001b[43m \u001b[49m\u001b[38;5;241;43m10\u001b[39;49m\u001b[43m)\u001b[49m  \u001b[38;5;66;03m# Traces this call and the nested helper call\u001b[39;00m\n",
      "\u001b[0;31mTypeError\u001b[0m: function_tracer.<locals>.decorator() takes 1 positional argument but 2 were given"
     ]
    }
   ],
   "source": [
    "example_function(5, 10)"
   ]
  },
  {
   "cell_type": "code",
   "execution_count": 5,
   "id": "b7c588d4",
   "metadata": {},
   "outputs": [
    {
     "name": "stdout",
     "output_type": "stream",
     "text": [
      "[2025-05-14 17:20:10.480821] CALL: risky_function(0)\n",
      "  File: /var/folders/_y/jx3g_j6n7bl_txk7_1tfhq200000gn/T/ipykernel_78737/3786795972.py:13\n",
      "  Called from: /var/folders/_y/jx3g_j6n7bl_txk7_1tfhq200000gn/T/ipykernel_78737/2333341695.py:2\n",
      "\n",
      "  ↪ risky_function(value=0) at /var/folders/_y/jx3g_j6n7bl_txk7_1tfhq200000gn/T/ipykernel_78737/3786795972.py:13\n",
      "  ↪ __init__(self=<encodings.utf_8.IncrementalDecoder object at 0x105745460>, errors='strict') at <frozen codecs>:309\n",
      "  ↪ __init__(self=<encodings.utf_8.IncrementalDecoder object at 0x105745460>, errors='strict') at <frozen codecs>:260\n",
      "  ↪ decode(self=<encodings.utf_8.IncrementalDecoder object at 0x105745460>, input=b'import inspect\\nimport functools\\nimport sys\\nimport traceback\\nfrom datetime import datetime\\n\\ndef function_tracer(depth=5, log_to_console=True, log_file=None):\\n    \"\"\"\\n    Decorator that traces function calls, parameters, and execution.\\n    \\n    Args:\\n        depth: Maximum recursion depth for nested function calls\\n        log_to_console: Whether to print trace to console\\n        log_file: Optional file path to write trace logs\\n    \"\"\"\\n    def decorator(func):\\n        @functools.wraps(func)\\n        def wrapper(*args, **kwargs):\\n            # Get function info\\n            frame = inspect.currentframe()\\n            caller_frame = frame.f_back\\n            caller_info = inspect.getframeinfo(caller_frame)\\n            \\n            # Format call information\\n            arg_values = [repr(arg) for arg in args]\\n            kwarg_values = [f\"{k}={repr(v)}\" for k, v in kwargs.items()]\\n            all_args = \", \".join(arg_values + kwarg_values)\\n            \\n            func_file = inspect.getfile(func)\\n            func_line = inspect.getsourcelines(func)[1]\\n            \\n            # Create trace entry\\n            timestamp = datetime.now().strftime(\"%Y-%m-%d %H:%M:%S.%f\")\\n            trace_entry = (\\n                f\"[{timestamp}] CALL: {func.__name__}({all_args})\\\\n\"\\n                f\"  File: {func_file}:{func_line}\\\\n\"\\n                f\"  Called from: {caller_info.filename}:{caller_info.lineno}\\\\n\"\\n            )\\n            \\n            # Log entry\\n            if log_to_console:\\n                print(trace_entry)\\n            if log_file:\\n                with open(log_file, \\'a\\') as f:\\n                    f.write(trace_entry)\\n            \\n            # Track nested calls by setting up a trace function\\n            call_stack = []\\n            original_trace = sys.gettrace()\\n            \\n            def trace_calls(frame, event, arg):\\n                if event != \\'call\\' or len(call_stack) >= depth:\\n                    return trace_calls\\n                \\n                # Get info about the called function\\n                try:\\n                    code = frame.f_code\\n                    func_name = code.co_name\\n                    func_filename = code.co_filename\\n                    func_line = frame.f_lineno\\n                    \\n                    # Skip built-in functions and standard library\\n                    if func_name == \\'<module>\\' or \\'/lib/\\' in func_filename:\\n                        return trace_calls\\n                    \\n                    # Get local variables (parameters)\\n                    local_vars = frame.f_locals.copy()\\n                    params = \", \".join([f\"{k}={repr(v)}\" for k, v in local_vars.items()\\n                                       if not k.startswith(\\'__\\')])\\n                    \\n                    # Add to call stack\\n                    call_info = f\"  \\xe2\\x86\\xaa {func_name}({params}) at {func_filename}:{func_line}\"\\n                    call_stack.append(call_info)\\n                    \\n                    if log_to_console:\\n                        print(call_info)\\n                    if log_file:\\n                        with open(log_file, \\'a\\') as f:\\n                            f.write(call_info + \"\\\\n\")\\n                except Exception as e:\\n                    if log_to_console:\\n                        print(f\"  Error tracing call: {e}\")\\n                \\n                return trace_calls\\n            \\n            # Set trace function\\n            sys.settrace(trace_calls)\\n            \\n            try:\\n                # Execute the function\\n                result = func(*args, **kwargs)\\n                \\n                # Log successful return\\n                return_entry = f\"[{datetime.now().strftime(\\'%Y-%m-%d %H:%M:%S.%f\\')}] RETURN: {func.__name__} \\xe2\\x86\\x92 {repr(result)}\\\\n\"\\n                if log_to_console:\\n                    print(return_entry)\\n                if log_file:\\n                    with open(log_file, \\'a\\') as f:\\n                        f.write(return_entry)\\n                \\n                return result\\n            except Exception as e:\\n                # Capture the exception details\\n                exc_t', final=False) at <frozen codecs>:319\n",
      "  ↪ decode(self=<encodings.utf_8.IncrementalDecoder object at 0x105745460>, input=b'ype, exc_value, exc_traceback = sys.exc_info()\\n                tb_lines = traceback.format_exception(exc_type, exc_value, exc_traceback)\\n                error_msg = \"\".join(tb_lines)\\n                \\n                # Log the error\\n                error_entry = (\\n                    f\"[{datetime.now().strftime(\\'%Y-%m-%d %H:%M:%S.%f\\')}] ERROR: {func.__name__}\\\\n\"\\n                    f\"  Exception: {e.__class__.__name__}: {str(e)}\\\\n\"\\n                    f\"  Traceback:\\\\n{error_msg}\\\\n\"\\n                )\\n                \\n                if log_to_console:\\n                    print(error_entry)\\n                if log_file:\\n                    with open(log_file, \\'a\\') as f:\\n                        f.write(error_entry)\\n                \\n                # Re-raise the exception\\n                raise\\n            finally:\\n                # Restore original trace function\\n                sys.settrace(original_trace)\\n                \\n        return wrapper\\n    return decorator\\n', final=False) at <frozen codecs>:319\n",
      "[2025-05-14 17:20:10.483272] ERROR: risky_function\n",
      "  Exception: ZeroDivisionError: division by zero\n",
      "  Traceback:\n",
      "Traceback (most recent call last):\n",
      "  File \"/Users/sid/Desktop/galileo/sdk-examples/python/code-insights-dev/dev_code_insights.py\", line 91, in wrapper\n",
      "    result = func(*args, **kwargs)\n",
      "             ^^^^^^^^^^^^^^^^^^^^^\n",
      "  File \"/var/folders/_y/jx3g_j6n7bl_txk7_1tfhq200000gn/T/ipykernel_78737/3786795972.py\", line 15, in risky_function\n",
      "    return 10 / value\n",
      "           ~~~^~~~~~~\n",
      "ZeroDivisionError: division by zero\n",
      "\n",
      "\n",
      "Caught division error, check the log\n"
     ]
    }
   ],
   "source": [
    "\n",
    "try:\n",
    "    risky_function(0)    # Will trace the error\n",
    "except ZeroDivisionError:\n",
    "    print(\"Caught division error, check the log\")\n"
   ]
  },
  {
   "cell_type": "code",
   "execution_count": 6,
   "id": "5177c52d",
   "metadata": {},
   "outputs": [
    {
     "name": "stdout",
     "output_type": "stream",
     "text": [
      "Found source code: `@function_fingerprint\n",
      "@function_tracer(depth=10)\n",
      "def complex_function(x):\n",
      "    return helper(x) * 2\n",
      "`\n",
      "Found source code: `def helper(x):\n",
      "    return x * 2\n",
      "`\n",
      "Complex function hash: 9fe7372f3e9b1bb131aacd58ef7f5077\n"
     ]
    },
    {
     "data": {
      "text/plain": [
       "168"
      ]
     },
     "execution_count": 6,
     "metadata": {},
     "output_type": "execute_result"
    }
   ],
   "source": [
    "\n",
    "print(f\"Complex function hash: {complex_function.get_hash()}\")\n",
    "complex_function(42)"
   ]
  },
  {
   "cell_type": "code",
   "execution_count": null,
   "id": "f173b273",
   "metadata": {},
   "outputs": [],
   "source": []
  }
 ],
 "metadata": {
  "kernelspec": {
   "display_name": "Notebooks-HO4Jl9IL",
   "language": "python",
   "name": "python3"
  },
  "language_info": {
   "codemirror_mode": {
    "name": "ipython",
    "version": 3
   },
   "file_extension": ".py",
   "mimetype": "text/x-python",
   "name": "python",
   "nbconvert_exporter": "python",
   "pygments_lexer": "ipython3",
   "version": "3.12.9"
  }
 },
 "nbformat": 4,
 "nbformat_minor": 5
}
